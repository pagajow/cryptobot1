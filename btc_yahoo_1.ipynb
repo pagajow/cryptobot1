{
 "cells": [
  {
   "cell_type": "code",
   "execution_count": 6,
   "metadata": {},
   "outputs": [],
   "source": [
    "import tensorflow as tf\n",
    "import numpy as np\n",
    "import pandas as pd \n",
    "import matplotlib.pyplot as plt\n",
    "import os\n",
    "import sys\n",
    "import json\n",
    "import requests\n",
    "\n",
    "from sklearn.model_selection import train_test_split\n",
    "from tensorflow.keras.utils import to_categorical"
   ]
  },
  {
   "cell_type": "code",
   "execution_count": 7,
   "metadata": {},
   "outputs": [],
   "source": [
    "df = pd.read_csv(\"static/BTC-USD_1d.csv\")\n",
    "del df[\"Adj Close\"]\n",
    "df[\"Date\"] = pd.to_datetime(df[\"Date\"])"
   ]
  },
  {
   "cell_type": "code",
   "execution_count": 8,
   "metadata": {},
   "outputs": [],
   "source": [
    "df['month'] = df['Date'].apply(lambda data: data.month)\n",
    "df['dayofweek'] = df['Date'].apply(lambda data: data.dayofweek)"
   ]
  },
  {
   "cell_type": "code",
   "execution_count": 9,
   "metadata": {},
   "outputs": [
    {
     "data": {
      "text/plain": [
       "[0, 1, 2, 3, 4, 5, 6]"
      ]
     },
     "execution_count": 9,
     "metadata": {},
     "output_type": "execute_result"
    }
   ],
   "source": [
    "sorted(df['dayofweek'].unique())"
   ]
  },
  {
   "cell_type": "markdown",
   "metadata": {},
   "source": [
    "[0, 1, 2, 3, 4, 5, 6]: 0 -> Mon, 6 -> Sun"
   ]
  },
  {
   "cell_type": "code",
   "execution_count": 10,
   "metadata": {},
   "outputs": [
    {
     "data": {
      "text/plain": [
       "[1, 2, 3, 4, 5, 6, 7, 8, 9, 10, 11, 12]"
      ]
     },
     "execution_count": 10,
     "metadata": {},
     "output_type": "execute_result"
    }
   ],
   "source": [
    "sorted(df['month'].unique())"
   ]
  },
  {
   "cell_type": "markdown",
   "metadata": {},
   "source": [
    "[1, 2, 3, 4, 5, 6, 7, 8, 9, 10, 11, 12] 1 -> Jan, 12 -> Dec"
   ]
  },
  {
   "cell_type": "code",
   "execution_count": 11,
   "metadata": {},
   "outputs": [],
   "source": [
    "dow = pd.DataFrame(to_categorical(df[\"dayofweek\"], 7))\n",
    "dow.columns = [\"Mo\", \"Tu\", \"We\", \"Th\", \"Fr\", \"Sa\", \"Su\"]"
   ]
  },
  {
   "cell_type": "code",
   "execution_count": 12,
   "metadata": {},
   "outputs": [],
   "source": [
    "m = pd.DataFrame(to_categorical(df[\"month\"]))\n",
    "m = m.drop(0, axis=1)\n",
    "m.columns = [\"Jan\", \"Feb\", \"Mar\", \"Apr\", \"May\", \"Jun\", \"Jul\", \"Aug\", \"Sep\", \"Oct\", \"Nov\", \"Dec\"]"
   ]
  },
  {
   "cell_type": "code",
   "execution_count": 13,
   "metadata": {},
   "outputs": [],
   "source": [
    "df = pd.concat([df, dow, m], axis=1)"
   ]
  },
  {
   "cell_type": "code",
   "execution_count": 14,
   "metadata": {},
   "outputs": [],
   "source": [
    "df = df.drop(['month', 'dayofweek'], axis=1)"
   ]
  },
  {
   "cell_type": "markdown",
   "metadata": {},
   "source": [
    "# sperymenty ze wskaznikami"
   ]
  },
  {
   "cell_type": "code",
   "execution_count": 15,
   "metadata": {},
   "outputs": [],
   "source": [
    "def add_performance(df: pd.DataFrame, name: str):\n",
    "    new_column = []\n",
    "    for i in range(len(df)):\n",
    "        new_column.append(((df['Close'][i] - df['Open'][i])/df['Open'][i]*100.0))\n",
    "    df[name] = new_column"
   ]
  },
  {
   "cell_type": "code",
   "execution_count": 16,
   "metadata": {},
   "outputs": [],
   "source": [
    "def add_volatility(df: pd.DataFrame, name: str):\n",
    "    new_column = []\n",
    "    for i in range(len(df)):\n",
    "        new_column.append(((df['High'][i] - df['Low'][i])/df['Open'][i]*100.0))\n",
    "    df[name] = new_column\n"
   ]
  },
  {
   "cell_type": "code",
   "execution_count": 17,
   "metadata": {},
   "outputs": [],
   "source": [
    "def add_moving_average(df: pd.DataFrame, column: str, name: str, periods: int):\n",
    "    if len(df) > periods:\n",
    "        new_column = []\n",
    "        for i in range(len(df)):\n",
    "            if i >= periods - 1:\n",
    "                s = 0\n",
    "                for j in range(periods):\n",
    "                    tmp = df[column][i-j]\n",
    "                    s += tmp\n",
    "                new_column.append(s/periods)\n",
    "            else:\n",
    "                new_column.append(None)\n",
    "        df[name] = new_column"
   ]
  },
  {
   "cell_type": "code",
   "execution_count": 18,
   "metadata": {},
   "outputs": [],
   "source": [
    "def add_first_derivative(df: pd.DataFrame, column: str, name: str):\n",
    "    new_column = [None]\n",
    "    for i in range(1, len(df)):\n",
    "        current = df[column][i]\n",
    "        previous = df[column][i-1]\n",
    "        if current is not None and previous is not None:\n",
    "            new_column.append(current - previous)\n",
    "        else:\n",
    "            new_column.append(None)\n",
    "    df[name] = new_column"
   ]
  },
  {
   "cell_type": "code",
   "execution_count": 19,
   "metadata": {},
   "outputs": [],
   "source": [
    "def get_linear_aprox(points: list):\n",
    "    # TODO: calculate linear aproximation params (A, B: y = A*x + B)\n",
    "    return None\n",
    "\n",
    "def add_trend_change(df: pd.DataFrame, column: str, name: str, periods: int):\n",
    "    if len(df) > periods:\n",
    "        new_column = []\n",
    "        for i in range(len(df)):\n",
    "            back = i - periods + 1\n",
    "            fort = i + periods\n",
    "\n",
    "            if back < 0 or fort >= len(df):\n",
    "                new_column.append(None)\n",
    "            else:\n",
    "                # TODO: here create two trend lines and chech if they have diferent directions\n",
    "                s = 0\n",
    "                for j in range(periods):\n",
    "                    tmp = df[column][i-j]\n",
    "                    s += tmp\n",
    "                new_column.append(s/periods)\n",
    "        df[name] = new_column"
   ]
  },
  {
   "cell_type": "code",
   "execution_count": 20,
   "metadata": {},
   "outputs": [
    {
     "data": {
      "text/html": [
       "<div>\n",
       "<style scoped>\n",
       "    .dataframe tbody tr th:only-of-type {\n",
       "        vertical-align: middle;\n",
       "    }\n",
       "\n",
       "    .dataframe tbody tr th {\n",
       "        vertical-align: top;\n",
       "    }\n",
       "\n",
       "    .dataframe thead th {\n",
       "        text-align: right;\n",
       "    }\n",
       "</style>\n",
       "<table border=\"1\" class=\"dataframe\">\n",
       "  <thead>\n",
       "    <tr style=\"text-align: right;\">\n",
       "      <th></th>\n",
       "      <th>Date</th>\n",
       "      <th>Open</th>\n",
       "      <th>High</th>\n",
       "      <th>Low</th>\n",
       "      <th>Close</th>\n",
       "      <th>perf_%</th>\n",
       "      <th>volt_%</th>\n",
       "      <th>ma_close_5</th>\n",
       "      <th>d1</th>\n",
       "      <th>d2</th>\n",
       "      <th>d3</th>\n",
       "    </tr>\n",
       "  </thead>\n",
       "  <tbody>\n",
       "    <tr>\n",
       "      <th>0</th>\n",
       "      <td>2014-09-17</td>\n",
       "      <td>465.864014</td>\n",
       "      <td>468.174011</td>\n",
       "      <td>452.421997</td>\n",
       "      <td>457.334015</td>\n",
       "      <td>-1.831006</td>\n",
       "      <td>3.381247</td>\n",
       "      <td>NaN</td>\n",
       "      <td>NaN</td>\n",
       "      <td>NaN</td>\n",
       "      <td>NaN</td>\n",
       "    </tr>\n",
       "    <tr>\n",
       "      <th>1</th>\n",
       "      <td>2014-09-18</td>\n",
       "      <td>456.859985</td>\n",
       "      <td>456.859985</td>\n",
       "      <td>413.104004</td>\n",
       "      <td>424.440002</td>\n",
       "      <td>-7.096262</td>\n",
       "      <td>9.577547</td>\n",
       "      <td>NaN</td>\n",
       "      <td>-32.894013</td>\n",
       "      <td>NaN</td>\n",
       "      <td>NaN</td>\n",
       "    </tr>\n",
       "    <tr>\n",
       "      <th>2</th>\n",
       "      <td>2014-09-19</td>\n",
       "      <td>424.102997</td>\n",
       "      <td>427.834991</td>\n",
       "      <td>384.532013</td>\n",
       "      <td>394.795990</td>\n",
       "      <td>-6.910351</td>\n",
       "      <td>10.210486</td>\n",
       "      <td>NaN</td>\n",
       "      <td>-29.644012</td>\n",
       "      <td>3.250001</td>\n",
       "      <td>NaN</td>\n",
       "    </tr>\n",
       "    <tr>\n",
       "      <th>3</th>\n",
       "      <td>2014-09-20</td>\n",
       "      <td>394.673004</td>\n",
       "      <td>423.295990</td>\n",
       "      <td>389.882996</td>\n",
       "      <td>408.903992</td>\n",
       "      <td>3.605767</td>\n",
       "      <td>8.465994</td>\n",
       "      <td>NaN</td>\n",
       "      <td>14.108002</td>\n",
       "      <td>43.752014</td>\n",
       "      <td>40.502013</td>\n",
       "    </tr>\n",
       "    <tr>\n",
       "      <th>4</th>\n",
       "      <td>2014-09-21</td>\n",
       "      <td>408.084991</td>\n",
       "      <td>412.425995</td>\n",
       "      <td>393.181000</td>\n",
       "      <td>398.821014</td>\n",
       "      <td>-2.270110</td>\n",
       "      <td>4.715928</td>\n",
       "      <td>416.859003</td>\n",
       "      <td>-10.082978</td>\n",
       "      <td>-24.190980</td>\n",
       "      <td>-67.942994</td>\n",
       "    </tr>\n",
       "    <tr>\n",
       "      <th>5</th>\n",
       "      <td>2014-09-22</td>\n",
       "      <td>399.100006</td>\n",
       "      <td>406.915985</td>\n",
       "      <td>397.130005</td>\n",
       "      <td>402.152008</td>\n",
       "      <td>0.764721</td>\n",
       "      <td>2.452012</td>\n",
       "      <td>405.822601</td>\n",
       "      <td>3.330994</td>\n",
       "      <td>13.413972</td>\n",
       "      <td>37.604952</td>\n",
       "    </tr>\n",
       "    <tr>\n",
       "      <th>6</th>\n",
       "      <td>2014-09-23</td>\n",
       "      <td>402.092010</td>\n",
       "      <td>441.557007</td>\n",
       "      <td>396.196991</td>\n",
       "      <td>435.790985</td>\n",
       "      <td>8.380911</td>\n",
       "      <td>11.281004</td>\n",
       "      <td>408.092798</td>\n",
       "      <td>33.638977</td>\n",
       "      <td>30.307983</td>\n",
       "      <td>16.894011</td>\n",
       "    </tr>\n",
       "    <tr>\n",
       "      <th>7</th>\n",
       "      <td>2014-09-24</td>\n",
       "      <td>435.751007</td>\n",
       "      <td>436.112000</td>\n",
       "      <td>421.131989</td>\n",
       "      <td>423.204987</td>\n",
       "      <td>-2.879172</td>\n",
       "      <td>3.437746</td>\n",
       "      <td>413.774597</td>\n",
       "      <td>-12.585998</td>\n",
       "      <td>-46.224975</td>\n",
       "      <td>-76.532958</td>\n",
       "    </tr>\n",
       "    <tr>\n",
       "      <th>8</th>\n",
       "      <td>2014-09-25</td>\n",
       "      <td>423.156006</td>\n",
       "      <td>423.519989</td>\n",
       "      <td>409.467987</td>\n",
       "      <td>411.574005</td>\n",
       "      <td>-2.737052</td>\n",
       "      <td>3.320762</td>\n",
       "      <td>414.308600</td>\n",
       "      <td>-11.630982</td>\n",
       "      <td>0.955016</td>\n",
       "      <td>47.179991</td>\n",
       "    </tr>\n",
       "    <tr>\n",
       "      <th>9</th>\n",
       "      <td>2014-09-26</td>\n",
       "      <td>411.428986</td>\n",
       "      <td>414.937988</td>\n",
       "      <td>400.009003</td>\n",
       "      <td>404.424988</td>\n",
       "      <td>-1.702359</td>\n",
       "      <td>3.628569</td>\n",
       "      <td>415.429395</td>\n",
       "      <td>-7.149017</td>\n",
       "      <td>4.481965</td>\n",
       "      <td>3.526949</td>\n",
       "    </tr>\n",
       "  </tbody>\n",
       "</table>\n",
       "</div>"
      ],
      "text/plain": [
       "        Date        Open        High         Low       Close    perf_%  \\\n",
       "0 2014-09-17  465.864014  468.174011  452.421997  457.334015 -1.831006   \n",
       "1 2014-09-18  456.859985  456.859985  413.104004  424.440002 -7.096262   \n",
       "2 2014-09-19  424.102997  427.834991  384.532013  394.795990 -6.910351   \n",
       "3 2014-09-20  394.673004  423.295990  389.882996  408.903992  3.605767   \n",
       "4 2014-09-21  408.084991  412.425995  393.181000  398.821014 -2.270110   \n",
       "5 2014-09-22  399.100006  406.915985  397.130005  402.152008  0.764721   \n",
       "6 2014-09-23  402.092010  441.557007  396.196991  435.790985  8.380911   \n",
       "7 2014-09-24  435.751007  436.112000  421.131989  423.204987 -2.879172   \n",
       "8 2014-09-25  423.156006  423.519989  409.467987  411.574005 -2.737052   \n",
       "9 2014-09-26  411.428986  414.937988  400.009003  404.424988 -1.702359   \n",
       "\n",
       "      volt_%  ma_close_5         d1         d2         d3  \n",
       "0   3.381247         NaN        NaN        NaN        NaN  \n",
       "1   9.577547         NaN -32.894013        NaN        NaN  \n",
       "2  10.210486         NaN -29.644012   3.250001        NaN  \n",
       "3   8.465994         NaN  14.108002  43.752014  40.502013  \n",
       "4   4.715928  416.859003 -10.082978 -24.190980 -67.942994  \n",
       "5   2.452012  405.822601   3.330994  13.413972  37.604952  \n",
       "6  11.281004  408.092798  33.638977  30.307983  16.894011  \n",
       "7   3.437746  413.774597 -12.585998 -46.224975 -76.532958  \n",
       "8   3.320762  414.308600 -11.630982   0.955016  47.179991  \n",
       "9   3.628569  415.429395  -7.149017   4.481965   3.526949  "
      ]
     },
     "execution_count": 20,
     "metadata": {},
     "output_type": "execute_result"
    },
    {
     "data": {
      "image/png": "[encoded data removed]",
      "text/plain": [
       "<Figure size 432x288 with 1 Axes>"
      ]
     },
     "metadata": {
      "needs_background": "light"
     },
     "output_type": "display_data"
    }
   ],
   "source": [
    "test = pd.read_csv(\"static/BTC-USD_1d.csv\")\n",
    "del test['Adj Close']\n",
    "del test['Volume']\n",
    "test[\"Date\"] = pd.to_datetime(test[\"Date\"])\n",
    "test = test[:25]\n",
    "add_performance(df=test, name=\"perf_%\")\n",
    "add_volatility(df=test, name=\"volt_%\")\n",
    "add_moving_average(df=test, column=\"Close\", name=\"ma_close_5\", periods=5)\n",
    "\n",
    "add_first_derivative(df=test, column=\"Close\", name=\"d1\")\n",
    "add_first_derivative(df=test, column=\"d1\", name=\"d2\")\n",
    "add_first_derivative(df=test, column=\"d2\", name=\"d3\")\n",
    "test[\"d1\"].plot()\n",
    "test[\"d2\"].plot()\n",
    "test[\"d3\"].plot()\n",
    "#test[\"ma\"].plot()\n",
    "test.head(10)"
   ]
  },
  {
   "cell_type": "code",
   "execution_count": null,
   "metadata": {},
   "outputs": [],
   "source": []
  }
 ],
 "metadata": {
  "kernelspec": {
   "display_name": "Python 3.9.10 ('env': venv)",
   "language": "python",
   "name": "python3"
  },
  "language_info": {
   "codemirror_mode": {
    "name": "ipython",
    "version": 3
   },
   "file_extension": ".py",
   "mimetype": "text/x-python",
   "name": "python",
   "nbconvert_exporter": "python",
   "pygments_lexer": "ipython3",
   "version": "3.9.10"
  },
  "orig_nbformat": 4,
  "vscode": {
   "interpreter": {
    "hash": "2fa2de2a9b7a8841a4a5d8bca0dbe09045afe6199451ae73d62ea39c66e07716"
   }
  }
 },
 "nbformat": 4,
 "nbformat_minor": 2
}
