{
 "cells": [
  {
   "cell_type": "code",
   "execution_count": 1,
   "metadata": {},
   "outputs": [],
   "source": [
    "import tensorflow as tf\n",
    "import numpy as np\n",
    "import pandas as pd \n",
    "import matplotlib.pyplot as plt\n",
    "import os\n",
    "import sys\n",
    "import json\n",
    "import requests"
   ]
  },
  {
   "cell_type": "markdown",
   "metadata": {},
   "source": [
    "##### API AND LIB DOC'S:\n",
    "https://pypi.org/project/glassnode/0.0.2/\n",
    "\n",
    "https://docs.glassnode.com/basic-api/api-key\n",
    "\n",
    "https://github.com/binance/binance-connector-python\n",
    "\n",
    "https://binance-docs.github.io/apidocs/spot/en/#enabling-accounts\n",
    "\n",
    "https://pypi.org/project/python-binance/\n",
    "\n",
    "https://testnet.binance.vision/\n",
    "\n",
    "https://academy.binance.com/pl/articles/binance-api-series-pt-1-spot-trading-with-postman#introduction\n",
    "\n",
    "\n",
    "## BINANCE:\n",
    "##### Spot API URL\t\n",
    "https://api.binance.com/api\t\n",
    "\n",
    "wss://stream.binance.com:9443/ws\t\n",
    "\n",
    "wss://stream.binance.com:9443/stream\t\n",
    "\n",
    "##### Spot Test Network URL\n",
    "https://testnet.binance.vision/api\n",
    "\n",
    "wss://testnet.binance.vision/ws\n",
    "\n",
    "wss://testnet.binance.vision/stream"
   ]
  },
  {
   "cell_type": "markdown",
   "metadata": {},
   "source": [
    "### Program"
   ]
  },
  {
   "cell_type": "code",
   "execution_count": 2,
   "metadata": {},
   "outputs": [],
   "source": [
    "GLASSNODE_API_KEY = 'xxx'\n",
    "glassnode_api_key_file = os.path.join(os.getcwd(), \"api_keys\\glassnode.json\")\n",
    "with open(glassnode_api_key_file) as f:\n",
    "    d = json.load(f)\n",
    "    GLASSNODE_API_KEY = d['api_key']"
   ]
  },
  {
   "cell_type": "code",
   "execution_count": 3,
   "metadata": {},
   "outputs": [
    {
     "data": {
      "text/html": [
       "<div>\n",
       "<style scoped>\n",
       "    .dataframe tbody tr th:only-of-type {\n",
       "        vertical-align: middle;\n",
       "    }\n",
       "\n",
       "    .dataframe tbody tr th {\n",
       "        vertical-align: top;\n",
       "    }\n",
       "\n",
       "    .dataframe thead th {\n",
       "        text-align: right;\n",
       "    }\n",
       "</style>\n",
       "<table border=\"1\" class=\"dataframe\">\n",
       "  <thead>\n",
       "    <tr style=\"text-align: right;\">\n",
       "      <th></th>\n",
       "      <th>t</th>\n",
       "      <th>v</th>\n",
       "    </tr>\n",
       "  </thead>\n",
       "  <tbody>\n",
       "    <tr>\n",
       "      <th>0</th>\n",
       "      <td>2010-07-17</td>\n",
       "      <td>1.000000</td>\n",
       "    </tr>\n",
       "    <tr>\n",
       "      <th>1</th>\n",
       "      <td>2010-07-18</td>\n",
       "      <td>1.174760</td>\n",
       "    </tr>\n",
       "    <tr>\n",
       "      <th>2</th>\n",
       "      <td>2010-07-19</td>\n",
       "      <td>1.318536</td>\n",
       "    </tr>\n",
       "    <tr>\n",
       "      <th>3</th>\n",
       "      <td>2010-07-20</td>\n",
       "      <td>1.090517</td>\n",
       "    </tr>\n",
       "    <tr>\n",
       "      <th>4</th>\n",
       "      <td>2010-07-21</td>\n",
       "      <td>1.065532</td>\n",
       "    </tr>\n",
       "  </tbody>\n",
       "</table>\n",
       "</div>"
      ],
      "text/plain": [
       "           t         v\n",
       "0 2010-07-17  1.000000\n",
       "1 2010-07-18  1.174760\n",
       "2 2010-07-19  1.318536\n",
       "3 2010-07-20  1.090517\n",
       "4 2010-07-21  1.065532"
      ]
     },
     "execution_count": 3,
     "metadata": {},
     "output_type": "execute_result"
    }
   ],
   "source": [
    "res = requests.get('https://api.glassnode.com/v1/metrics/indicators/sopr', params={'a': 'BTC', 'api_key': GLASSNODE_API_KEY})\n",
    "df = pd.read_json(res.text, convert_dates=['t'])\n",
    "df.head()"
   ]
  },
  {
   "cell_type": "markdown",
   "metadata": {},
   "source": [
    "https://algotrading101.com/learn/binance-python-api-guide/"
   ]
  },
  {
   "cell_type": "code",
   "execution_count": 4,
   "metadata": {},
   "outputs": [],
   "source": [
    "from api.binance.endpoints import Client"
   ]
  },
  {
   "cell_type": "code",
   "execution_count": 14,
   "metadata": {},
   "outputs": [],
   "source": [
    "c = Client()"
   ]
  },
  {
   "cell_type": "code",
   "execution_count": 15,
   "metadata": {},
   "outputs": [],
   "source": [
    "ep = '/sapi/v1/system/status'"
   ]
  },
  {
   "cell_type": "code",
   "execution_count": 16,
   "metadata": {},
   "outputs": [
    {
     "name": "stdout",
     "output_type": "stream",
     "text": [
      "https://testnet.binance.vision/api/sapi/v1/system/status\n"
     ]
    }
   ],
   "source": [
    "res = c.get(endpoint=ep)"
   ]
  },
  {
   "cell_type": "code",
   "execution_count": 17,
   "metadata": {},
   "outputs": [
    {
     "data": {
      "text/plain": [
       "'<html><body><h2>404 Not found</h2></body></html>'"
      ]
     },
     "execution_count": 17,
     "metadata": {},
     "output_type": "execute_result"
    }
   ],
   "source": [
    "res.text"
   ]
  }
 ],
 "metadata": {
  "kernelspec": {
   "display_name": "Python 3.9.12 ('cryptobotenv')",
   "language": "python",
   "name": "python3"
  },
  "language_info": {
   "codemirror_mode": {
    "name": "ipython",
    "version": 3
   },
   "file_extension": ".py",
   "mimetype": "text/x-python",
   "name": "python",
   "nbconvert_exporter": "python",
   "pygments_lexer": "ipython3",
   "version": "3.9.12"
  },
  "orig_nbformat": 4,
  "vscode": {
   "interpreter": {
    "hash": "efd1d69364d0ec6333bd26fca8c6ed3f2742f68d5e8b664c880eebe31d6dceae"
   }
  }
 },
 "nbformat": 4,
 "nbformat_minor": 2
}
